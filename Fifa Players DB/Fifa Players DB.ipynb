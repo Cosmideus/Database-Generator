{
 "cells": [
  {
   "cell_type": "code",
   "execution_count": null,
   "metadata": {},
   "outputs": [],
   "source": [
    "from bs4 import BeautifulSoup\n",
    "import requests\n",
    "import pandas\n",
    "import concurrent.futures\n",
    "import time\n",
    "import random"
   ]
  },
  {
   "cell_type": "code",
   "execution_count": null,
   "metadata": {},
   "outputs": [],
   "source": [
    "playersDB = [['Name','Position','Rating','PAC','SHO','PAS','DRI','DEF','PHY']]\n",
    "def getPlayerData(url):\n",
    "    data = BeautifulSoup(requests.get(url, timeout=100).text, 'html.parser')\n",
    "    classNames = ['pcdisplay-name','pcdisplay-pos','pcdisplay-rat','pcdisplay-ovr1 stat-val','pcdisplay-ovr2 stat-val','pcdisplay-ovr3 stat-val','pcdisplay-ovr4 stat-val','pcdisplay-ovr5 stat-val','pcdisplay-ovr6 stat-val']\n",
    "    playerInfo = []\n",
    "    for i in classNames:\n",
    "        playerInfo.append(data.find('div',class_ = i).text)\n",
    "    print(len(playersDB),playerInfo)\n",
    "    return playersDB.append(playerInfo)"
   ]
  },
  {
   "cell_type": "code",
   "execution_count": null,
   "metadata": {},
   "outputs": [],
   "source": [
    "maxURLs = 28623\n",
    "urls = [(\"https://www.futbin.com/21/player/\"+str(i+1)) for i in range(maxURLs)]"
   ]
  },
  {
   "cell_type": "code",
   "execution_count": null,
   "metadata": {
    "tags": []
   },
   "outputs": [],
   "source": [
    "with concurrent.futures.ThreadPoolExecutor(max_workers=16) as executor:\n",
    "    _ = executor.map(getPlayerData, urls)"
   ]
  },
  {
   "cell_type": "code",
   "execution_count": null,
   "metadata": {},
   "outputs": [],
   "source": [
    "completeDB = pandas.DataFrame(playersDB[1:], columns=playersDB[0])\n",
    "completeDB"
   ]
  },
  {
   "cell_type": "code",
   "execution_count": null,
   "metadata": {},
   "outputs": [],
   "source": [
    "completeDB.to_csv('FutbinDB.csv' ,index = False)"
   ]
  }
 ],
 "metadata": {
  "kernelspec": {
   "display_name": "Python 3",
   "language": "python",
   "name": "python3"
  },
  "language_info": {
   "codemirror_mode": {
    "name": "ipython",
    "version": 3
   },
   "file_extension": ".py",
   "mimetype": "text/x-python",
   "name": "python",
   "nbconvert_exporter": "python",
   "pygments_lexer": "ipython3",
   "version": "3.8.5-final"
  }
 },
 "nbformat": 4,
 "nbformat_minor": 4
}